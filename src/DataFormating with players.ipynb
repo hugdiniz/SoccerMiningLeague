{
 "cells": [
  {
   "cell_type": "markdown",
   "metadata": {},
   "source": [
    "# Soccer Mining League\n",
    "## Formating Dataset Match_Team\n",
    "\n",
    "#### Data Mining PESC/COPPE/UFRJ\n",
    "#### Required: Julia Language"
   ]
  },
  {
   "cell_type": "markdown",
   "metadata": {},
   "source": [
    "## Reading dataset "
   ]
  },
  {
   "cell_type": "code",
   "execution_count": 1,
   "metadata": {
    "collapsed": false
   },
   "outputs": [
    {
     "data": {
      "text/plain": [
       "306×935 Array{Any,2}:\n",
       " 2001675  7809  7809   1  …  59  27  24  25   8   7   9   7   6\n",
       " 2001676  7809  7809   1     74  27  37  40   7   9  13   8  13\n",
       " 2001677  7809  7809   1     62  22  29  25   6   8   8  12   7\n",
       " 2001679  7809  7809   1     62  18  24  14  16  13  15  14  10\n",
       " 2001680  7809  7809   1     77  25  31  19  10  11  11   6   8\n",
       " 2001681  7809  7809   1  …  86  22  22  15   8   9  14   7   6\n",
       " 2001682  7809  7809   1     56  20  33  23   7  12   6   9  11\n",
       " 2001683  7809  7809   1     69  15  30  12   8  10   8   6  10\n",
       " 2001684  7809  7809   1     77  33  42  40  12  14  14   6   7\n",
       " 2002173  7809  7809  10     77  25  31  19  10  11  11   6   8\n",
       " 2002174  7809  7809  10  …  68  21  51  24  13  13  12   8  11\n",
       " 2002175  7809  7809  10     63  17  20  19   9   9   8  15   9\n",
       " 2002176  7809  7809  10     63  26  32  35   8  12   9   9  14\n",
       "       ⋮                  ⋱                   ⋮                \n",
       " 2002161  7809  7809   8     72  39  32  42  15  10  12   6  14\n",
       " 2002162  7809  7809   8  …  62  18  24  14  16  13  15  14  10\n",
       " 2002163  7809  7809   8     56  32  20  30   7  15  15   8  14\n",
       " 2002164  7809  7809   9     86  22  22  15   8   9  14   7   6\n",
       " 2002165  7809  7809   9     72  17  50  33   8   7   9   7  12\n",
       " 2002166  7809  7809   9     80  22  29  25  14  12   9  12  11\n",
       " 2002167  7809  7809   9  …  69  15  30  12   8  10   8   6  10\n",
       " 2002168  7809  7809   9     64  15  29  12   6  15   8   7  12\n",
       " 2002169  7809  7809   9     77  25  42  19  15   6  12   8  10\n",
       " 2002170  7809  7809   9     72  29  42  31  12  10   5  13  14\n",
       " 2002171  7809  7809   9     71  35  32  24  14  10   9  12  11\n",
       " 2002172  7809  7809   9  …  84  28  25  36   6   9  15   9   9"
      ]
     },
     "execution_count": 1,
     "metadata": {},
     "output_type": "execute_result"
    }
   ],
   "source": [
    "matrix = readcsv(\"../dataset/extracted_files/matchs_teams_players_germany_league_2015_2016_extracted.csv\")"
   ]
  },
  {
   "cell_type": "markdown",
   "metadata": {},
   "source": [
    "## Formating\n",
    "\n",
    "#### Recover Classes"
   ]
  },
  {
   "cell_type": "code",
   "execution_count": 2,
   "metadata": {
    "collapsed": false
   },
   "outputs": [
    {
     "data": {
      "text/plain": [
       "18-element Array{Any,1}:\n",
       "  9790\n",
       "  9788\n",
       "  8226\n",
       "  9810\n",
       "  8722\n",
       "  8177\n",
       " 10189\n",
       "  8234\n",
       "  9904\n",
       "  8406\n",
       " 10269\n",
       "  8697\n",
       "  8721\n",
       "  8178\n",
       "  8262\n",
       "  9905\n",
       "  9789\n",
       "  9823"
      ]
     },
     "execution_count": 2,
     "metadata": {},
     "output_type": "execute_result"
    }
   ],
   "source": [
    "defenceDefenderLineClass = unique(matrix[:,99])\n",
    "chanceCreationPositioningClass = unique(matrix[:,95])\n",
    "buildUpPlayPositioningClass = unique(matrix[:,91])\n",
    "idTeams = unique(matrix[:,7])"
   ]
  },
  {
   "cell_type": "markdown",
   "metadata": {},
   "source": [
    "#### Formating  class attributes "
   ]
  },
  {
   "cell_type": "code",
   "execution_count": 3,
   "metadata": {
    "collapsed": false
   },
   "outputs": [],
   "source": [
    "classNeedFormat = find(x->ismatch(r\"[a-zA-Z]\",string(x)),matrix[1,1:end])\n",
    "\n",
    "for classIndex in classNeedFormat\n",
    "    uniqueClass = unique(matrix[:,classIndex])\n",
    "    matrix[:,classIndex] = [find(x->x==pos,uniqueClass)[1] - 1 for pos in matrix[:,classIndex]]    \n",
    "end"
   ]
  },
  {
   "cell_type": "markdown",
   "metadata": {},
   "source": [
    "#### Formating Results"
   ]
  },
  {
   "cell_type": "code",
   "execution_count": 4,
   "metadata": {
    "collapsed": false
   },
   "outputs": [],
   "source": [
    "hcat(matrix[:,8],matrix[:,9])\n",
    "\n",
    "result = []\n",
    "\n",
    "for x in 1:length(matrix[:,8])    \n",
    "    if matrix[x,8] > matrix[x,9]\n",
    "        result = vcat(result,1)\n",
    "    elseif matrix[x,8] < matrix[x,9]\n",
    "        result = vcat(result,-1)\n",
    "    else\n",
    "        result = vcat(result,0)\n",
    "    end\n",
    "end        "
   ]
  },
  {
   "cell_type": "markdown",
   "metadata": {},
   "source": [
    "#### Formating Data"
   ]
  },
  {
   "cell_type": "code",
   "execution_count": 5,
   "metadata": {
    "collapsed": false
   },
   "outputs": [],
   "source": [
    "dates = []\n",
    "\n",
    "for dateString in matrix[:,5]     \n",
    "    dateString = split(dateString,\" \")[1]\n",
    "    date = Date(dateString,\"y-m-d\")\n",
    "    dates = vcat(dates,date.instant.periods.value)    \n",
    "end\n"
   ]
  },
  {
   "cell_type": "markdown",
   "metadata": {},
   "source": [
    "#### Joining dataset"
   ]
  },
  {
   "cell_type": "code",
   "execution_count": 6,
   "metadata": {
    "collapsed": false
   },
   "outputs": [
    {
     "data": {
      "text/plain": [
       "306×911 Array{Any,2}:\n",
       "  9823   9790  735824  1  2  8  4  6  5  …   8   7   9   7   6   1  5  0   1\n",
       "  9789   9788  735825  1  2  4  6  8  5      7   9  13   8  13   1  4  0   1\n",
       "  8178   8226  735825  1  4  6  2  8  4      6   8   8  12   7   1  2  1   1\n",
       "  8721   9810  735826  1  2  4  6  8  4     16  13  15  14  10   1  2  1   1\n",
       " 10269   8722  735826  1  2  4  6  8  2     10  11  11   6   8  -1  1  3   1\n",
       "  8406   8177  735825  1  2  4  6  8  5  …   8   9  14   7   6  -1  0  1   1\n",
       "  8697  10189  735825  1  2  4  6  8  5      7  12   6   9  11  -1  0  3   1\n",
       "  9905   8234  735825  1  2  4  6  8  4      8  10   8   6  10  -1  0  1   1\n",
       "  8262   9904  735825  1  2  4  6  8  6     12  14  14   6   7   0  2  2   1\n",
       "  9823   8722  735895  1  3  5  7  2  4     10  11  11   6   8   1  4  0  10\n",
       "  9789   8406  735896  1  2  4  6  8  4  …  13  13  12   8  11   1  5  1  10\n",
       "  8178  10269  735895  1  2  4  6  8  4      9   9   8  15   9   1  4  3  10\n",
       "  9788  10189  735896  1  2  4  6  8  4      8  12   9   9  14   1  3  1  10\n",
       "     ⋮                       ⋮           ⋱               ⋮                 ⋮\n",
       "  8226  10269  735874  1  2  4  6  8  3     15  10  12   6  14   0  2  2   8\n",
       "  8234   9810  735874  1  2  4  6  8  3  …  16  13  15  14  10   1  2  0   8\n",
       "  8262   9905  735873  1  2  4  6  8  2      7  15  15   8  14  -1  2  3   8\n",
       " 10189   8177  735888  1  4  6  2  8  4      8   9  14   7   6   1  2  1   9\n",
       "  8721   8226  735888  1  2  4  6  8  4      8   7   9   7  12   1  4  2   9\n",
       "  9790   8178  735888  1  2  4  6  8  6     14  12   9  12  11   0  0  0   9\n",
       " 10269   8234  735889  1  2  4  6  8  3  …   8  10   8   6  10   1  1  0   9\n",
       "  8406   8262  735888  1  2  4  6  8  4      6  15   8   7  12  -1  0  2   9\n",
       "  8697   9823  735888  1  2  4  6  8  4     15   6  12   8  10  -1  0  1   9\n",
       "  9810   9788  735888  1  2  4  6  8  5     12  10   5  13  14  -1  1  5   9\n",
       "  8722   9904  735889  1  2  4  6  8  2     14  10   9  12  11  -1  0  1   9\n",
       "  9905   9789  735887  1  2  4  6  8  4  …   6   9  15   9   9  -1  0  2   9"
      ]
     },
     "execution_count": 6,
     "metadata": {},
     "output_type": "execute_result"
    }
   ],
   "source": [
    "outMatrix  = hcat(matrix[:,6:7],dates,matrix[:,10:53],matrix[:,76:end],result,matrix[:,8],matrix[:,9],matrix[:,4])"
   ]
  },
  {
   "cell_type": "markdown",
   "metadata": {},
   "source": [
    "#### Save Dataset"
   ]
  },
  {
   "cell_type": "code",
   "execution_count": 7,
   "metadata": {
    "collapsed": false
   },
   "outputs": [],
   "source": [
    "writecsv(\"../dataset/formated_files/matchs_teams_players_germany_league_2015_2016_formated.csv\",outMatrix)"
   ]
  },
  {
   "cell_type": "code",
   "execution_count": null,
   "metadata": {
    "collapsed": true
   },
   "outputs": [],
   "source": []
  }
 ],
 "metadata": {
  "anaconda-cloud": {},
  "kernelspec": {
   "display_name": "Julia 0.5.0",
   "language": "julia",
   "name": "julia-0.5"
  },
  "language_info": {
   "file_extension": ".jl",
   "mimetype": "application/julia",
   "name": "julia",
   "version": "0.5.0"
  }
 },
 "nbformat": 4,
 "nbformat_minor": 0
}
