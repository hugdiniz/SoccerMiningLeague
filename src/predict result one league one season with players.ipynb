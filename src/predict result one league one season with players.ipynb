{
 "cells": [
  {
   "cell_type": "markdown",
   "metadata": {},
   "source": [
    "# Soccer Mining League\n",
    "## Predict result one league and one season\n",
    "\n",
    "#### Data Mining PESC/COPPE/UFRJ\n",
    "#### Required: Python 3.5, Numpy, Scikit-Learn, Matplotlib"
   ]
  },
  {
   "cell_type": "code",
   "execution_count": 1,
   "metadata": {
    "collapsed": false
   },
   "outputs": [],
   "source": [
    "import numpy as np\n",
    "\n",
    "#Sklearn -- preprocessing \n",
    "from sklearn import preprocessing\n",
    "from sklearn.decomposition import PCA\n",
    "from sklearn.manifold import TSNE\n",
    "\n",
    "#Plots\n",
    "%matplotlib inline\n",
    "\n",
    "from sklearn import svm\n",
    "from sklearn.linear_model import LogisticRegression\n",
    "from sklearn.neighbors import KNeighborsClassifier\n",
    "\n",
    "from sklearn.preprocessing import StandardScaler\n",
    "\n",
    "from sklearn.cross_validation import cross_val_score\n",
    "\n",
    "# Soccer Mining League Functions\n",
    "from functions import *"
   ]
  },
  {
   "cell_type": "markdown",
   "metadata": {},
   "source": [
    "## Reading dataset\n",
    "\n",
    "#### Reading from file"
   ]
  },
  {
   "cell_type": "code",
   "execution_count": 2,
   "metadata": {
    "collapsed": false
   },
   "outputs": [],
   "source": [
    "trainTest = np.loadtxt(\"../dataset/formated_files/matchs_teams_players_germany_league_2015_2016_formated.csv\",delimiter=\",\")"
   ]
  },
  {
   "cell_type": "markdown",
   "metadata": {},
   "source": [
    "#### Recover output"
   ]
  },
  {
   "cell_type": "code",
   "execution_count": 3,
   "metadata": {
    "collapsed": false
   },
   "outputs": [],
   "source": [
    "outputs = trainTest[:,907]\n",
    "outputsR = trainTest[:,[908,909]]\n"
   ]
  },
  {
   "cell_type": "markdown",
   "metadata": {},
   "source": [
    "## Preprocessing\n",
    "\n",
    "#### Plot PCA Expectrum for Tatics  (One Team)"
   ]
  },
  {
   "cell_type": "code",
   "execution_count": 4,
   "metadata": {
    "collapsed": false
   },
   "outputs": [
    {
     "data": {
      "image/png": "[encoded data removed]",
      "text/plain": [
       "<matplotlib.figure.Figure at 0x7f6715569b38>"
      ]
     },
     "metadata": {},
     "output_type": "display_data"
    }
   ],
   "source": [
    "homeTatics = trainTest[:,[3,4,5,6,7,8,9,10,11,12,13,25,26,27,28,29,30,31,32,33,34,35]]\n",
    "plotPCASpectrum(homeTatics)"
   ]
  },
  {
   "cell_type": "markdown",
   "metadata": {},
   "source": [
    "#### Plot PCA Expectrum for team rating (One Team)"
   ]
  },
  {
   "cell_type": "code",
   "execution_count": 5,
   "metadata": {
    "collapsed": false
   },
   "outputs": [
    {
     "data": {
      "image/png": "[encoded data removed]",
      "text/plain": [
       "<matplotlib.figure.Figure at 0x7f6715569978>"
      ]
     },
     "metadata": {},
     "output_type": "display_data"
    }
   ],
   "source": [
    "homeRateTeam = trainTest[:,[47,48,49,50,51,52,53,54,55,56,57,58]]\n",
    "plotPCASpectrum(homeRateTeam)"
   ]
  },
  {
   "cell_type": "markdown",
   "metadata": {},
   "source": [
    "#### Plot PCA Expectrum for one Player"
   ]
  },
  {
   "cell_type": "code",
   "execution_count": 6,
   "metadata": {
    "collapsed": false
   },
   "outputs": [
    {
     "data": {
      "image/png": "[encoded data removed]",
      "text/plain": [
       "<matplotlib.figure.Figure at 0x7f67155697b8>"
      ]
     },
     "metadata": {},
     "output_type": "display_data"
    }
   ],
   "source": [
    "homeRateTeam = trainTest[:,71:109]\n",
    "plotPCASpectrum(homeRateTeam)"
   ]
  },
  {
   "cell_type": "markdown",
   "metadata": {},
   "source": [
    "#### Reducing Dimensionality for Tatics"
   ]
  },
  {
   "cell_type": "code",
   "execution_count": 7,
   "metadata": {
    "collapsed": true
   },
   "outputs": [],
   "source": [
    "homeTatics = trainTest[:,[3,4,5,6,7,8,9,10,11,12,13,25,26,27,28,29,30,31,32,33,34,35]]\n",
    "awayTatics = trainTest[:,[14,15,16,17,18,19,20,21,22,23,24,36,37,38,39,40,41,42,43,44,45,46]]\n",
    "\n",
    "pca = decomposition.PCA(n_components=5)\n",
    "homeTaticspreprocessed = pca.fit_transform(homeTatics)\n",
    "\n",
    "pca = decomposition.PCA(n_components=5)\n",
    "awayTaticspreprocessed = pca.fit_transform(awayTatics)"
   ]
  },
  {
   "cell_type": "markdown",
   "metadata": {},
   "source": [
    "#### Reducing Dimensionality for team ratings"
   ]
  },
  {
   "cell_type": "code",
   "execution_count": 8,
   "metadata": {
    "collapsed": true
   },
   "outputs": [],
   "source": [
    "homeRateTeam = trainTest[:,[47,48,49,50,51,52,53,54,55,56,57,58]]\n",
    "awayRateTeam = trainTest[:,[59,60,61,62,63,64,65,66,67,68,69,70]]\n",
    "\n",
    "pca = decomposition.PCA(n_components=6)\n",
    "homeRateTeamPreprocessed = pca.fit_transform(homeRateTeam)\n",
    "\n",
    "pca = decomposition.PCA(n_components=6)\n",
    "awayRateTeampreprocessed = pca.fit_transform(awayRateTeam)"
   ]
  },
  {
   "cell_type": "markdown",
   "metadata": {},
   "source": [
    "#### Reducing Dimensionality for players"
   ]
  },
  {
   "cell_type": "code",
   "execution_count": 9,
   "metadata": {
    "collapsed": false
   },
   "outputs": [],
   "source": [
    "xTatics = trainTest[:,[3,4,5,6,7,8,9,10,11,12,13,14,15,16,17,18,19,20,21,22,23,24,25,26,27,28,29,30,31,32,33,34,35,36,37,38,39,40,41,42,43,44,45,46]]\n",
    "\n",
    "playersRD = [decomposition.PCA(n_components=9).fit_transform(np.concatenate((trainTest[:,range(71+(pos*38),71+((pos+1)*38))],xTatics[:,[pos,pos+22]]),axis=1)) for pos in range(22)]\n",
    "\n",
    "\n"
   ]
  },
  {
   "cell_type": "markdown",
   "metadata": {},
   "source": [
    "#### Maximize sparse teams"
   ]
  },
  {
   "cell_type": "code",
   "execution_count": 10,
   "metadata": {
    "collapsed": false
   },
   "outputs": [],
   "source": [
    "enc = preprocessing.OneHotEncoder()\n",
    "enc.fit(trainTest[:,[0]])\n",
    "teamsH = enc.transform(trainTest[:,[0]]) \n",
    "teamsA = enc.transform(trainTest[:,[1]]) \n",
    "teams = (teamsH + teamsA).toarray()"
   ]
  },
  {
   "cell_type": "markdown",
   "metadata": {},
   "source": [
    "#### Concatenate inputs"
   ]
  },
  {
   "cell_type": "code",
   "execution_count": 11,
   "metadata": {
    "collapsed": false
   },
   "outputs": [],
   "source": [
    "date = trainTest[:,[2]]\n",
    "inputs = np.concatenate((homeRateTeamPreprocessed,awayRateTeampreprocessed,teams), axis=1)\n",
    "\n",
    "for playerRD in playersRD:\n",
    "    inputs = np.concatenate((inputs,playerRD), axis=1)\n",
    "\n"
   ]
  },
  {
   "cell_type": "markdown",
   "metadata": {},
   "source": [
    "#### Scaling inputs"
   ]
  },
  {
   "cell_type": "code",
   "execution_count": 12,
   "metadata": {
    "collapsed": false
   },
   "outputs": [],
   "source": [
    "inputs = StandardScaler().fit_transform(inputs)"
   ]
  },
  {
   "cell_type": "markdown",
   "metadata": {},
   "source": [
    "## Classification "
   ]
  },
  {
   "cell_type": "markdown",
   "metadata": {},
   "source": [
    "#### Using KFold with Naive Bayes"
   ]
  },
  {
   "cell_type": "code",
   "execution_count": 13,
   "metadata": {
    "collapsed": false
   },
   "outputs": [
    {
     "name": "stdout",
     "output_type": "stream",
     "text": [
      "Naive Bayes: = Score:4.56e-01[+/- 7.53e-02]\n"
     ]
    },
    {
     "data": {
      "text/plain": [
       "0.4830241935483871"
      ]
     },
     "execution_count": 13,
     "metadata": {},
     "output_type": "execute_result"
    }
   ],
   "source": [
    "resultSVM = KFoldNB(inputs,outputs)\n",
    "\n",
    "gnb = GaussianNB()\n",
    "np.mean(cross_val_score(gnb, inputs, outputs, scoring='accuracy', cv=10))"
   ]
  },
  {
   "cell_type": "code",
   "execution_count": 14,
   "metadata": {
    "collapsed": false
   },
   "outputs": [
    {
     "data": {
      "image/png": "[encoded data removed]",
      "text/plain": [
       "<matplotlib.figure.Figure at 0x7f67284436a0>"
      ]
     },
     "metadata": {},
     "output_type": "display_data"
    }
   ],
   "source": [
    "gnb.fit(inputs, outputs)\n",
    "\n",
    "y_predict = gnb.predict(inputs)\n",
    "plotConfusionMatrix(outputs, y_predict)"
   ]
  },
  {
   "cell_type": "markdown",
   "metadata": {},
   "source": [
    "#### Using KFold with SVM"
   ]
  },
  {
   "cell_type": "code",
   "execution_count": 15,
   "metadata": {
    "collapsed": false
   },
   "outputs": [
    {
     "data": {
      "image/png": "[encoded data removed]",
      "text/plain": [
       "<matplotlib.figure.Figure at 0x7f67155656d8>"
      ]
     },
     "metadata": {},
     "output_type": "display_data"
    }
   ],
   "source": [
    "clf = svm.SVC()\n",
    "np.mean(cross_val_score(clf,inputs,outputs,cv=10))\n",
    "holdoutPlotConfusionMatrix(clf,inputs,outputs)"
   ]
  },
  {
   "cell_type": "markdown",
   "metadata": {},
   "source": [
    "#### Using KFold with Logistic Regression"
   ]
  },
  {
   "cell_type": "code",
   "execution_count": 16,
   "metadata": {
    "collapsed": false
   },
   "outputs": [
    {
     "data": {
      "text/plain": [
       "0.47344086021505383"
      ]
     },
     "execution_count": 16,
     "metadata": {},
     "output_type": "execute_result"
    }
   ],
   "source": [
    "clf = LogisticRegression(penalty='l1')\n",
    "np.mean(cross_val_score(clf,inputs,outputs,cv=10))"
   ]
  },
  {
   "cell_type": "code",
   "execution_count": 17,
   "metadata": {
    "collapsed": false
   },
   "outputs": [
    {
     "data": {
      "image/png": "[encoded data removed]",
      "text/plain": [
       "<matplotlib.figure.Figure at 0x7f67284ea780>"
      ]
     },
     "metadata": {},
     "output_type": "display_data"
    }
   ],
   "source": [
    "clf.fit(inputs, outputs)\n",
    "y_predict = clf.predict(inputs)\n",
    "plotConfusionMatrix(outputs, y_predict)"
   ]
  },
  {
   "cell_type": "markdown",
   "metadata": {},
   "source": [
    "#### Using KFold with KNeighborsClassifier"
   ]
  },
  {
   "cell_type": "code",
   "execution_count": 18,
   "metadata": {
    "collapsed": false
   },
   "outputs": [
    {
     "data": {
      "text/plain": [
       "0.51365591397849464"
      ]
     },
     "execution_count": 18,
     "metadata": {},
     "output_type": "execute_result"
    }
   ],
   "source": [
    "clf = KNeighborsClassifier(n_neighbors=15)\n",
    "np.mean(cross_val_score(clf,inputs,outputs,cv=10))"
   ]
  },
  {
   "cell_type": "markdown",
   "metadata": {
    "collapsed": true
   },
   "source": [
    "#### Using SVM - Regression for predict number of goals before predict winning team"
   ]
  },
  {
   "cell_type": "code",
   "execution_count": 19,
   "metadata": {
    "collapsed": false,
    "scrolled": true
   },
   "outputs": [
    {
     "name": "stdout",
     "output_type": "stream",
     "text": [
      "[ 1.61588668  1.23452593  1.13648632  1.74902055  1.97980867]\n",
      "[ 0.56067225  1.1302282   1.68550027  0.98995989  0.91070114]\n",
      "[ 1.40529551  0.86865446  1.02003799  0.87724993  1.45406828]\n",
      "[ 0.79077396  1.29603513  1.20041446  1.0459818   1.17069376]\n",
      "[ 2.46271924  1.42300384  2.07880341  1.59287493  1.10789207]\n",
      "[ 1.35931012  1.36449783  1.05064277  1.41131213  1.38901378]\n",
      "[ 0.92576889  0.85397606  1.26302536  1.48261251  1.93239838]\n",
      "[ 1.3806894   1.38651651  1.27605424  0.54776759  0.70004553]\n",
      "[ 1.15650288  1.4762169   1.0957417   0.71908818  0.84031279]\n",
      "[ 1.26101181  1.25958986  1.84360057  1.5670775   1.14280011]\n",
      "[ 2.03021284  2.22622902  0.98583889  1.34879716  0.82444828]\n",
      "[ 0.49558298  1.36047368  1.3728258   0.98441142  1.7701785 ]\n",
      "[ 1.05783658  1.73160884  1.12013805  1.6240453   0.91480329]\n",
      "[ 1.28478967  0.91657814  1.28972835  0.9261649   1.50138009]\n",
      "[ 1.02030338  1.48339132  0.90754535  1.74837448  2.29077647]\n",
      "[ 1.28080641  0.27016348  1.07307027  1.18896633  0.64909919]\n",
      "[ 1.86845443  1.25531062  1.32419483  2.43637128  1.41685403]\n",
      "[ 0.93888177  0.56126332  1.03756078  0.97655199  0.65517508]\n",
      "[ 0.98252322  0.96057707  1.98356338  2.06557047  2.60940102]\n",
      "[ 1.24594792  1.55037246  0.77466164  1.00249649  0.82432159]\n",
      " = Score:5.64e-01[+/- 9.59e-02]\n"
     ]
    },
    {
     "data": {
      "text/plain": [
       "0.56354838709677424"
      ]
     },
     "execution_count": 19,
     "metadata": {},
     "output_type": "execute_result"
    }
   ],
   "source": [
    "clf = svm.SVR()\n",
    "KFoldRC(clf,inputs,outputsR)"
   ]
  },
  {
   "cell_type": "code",
   "execution_count": null,
   "metadata": {
    "collapsed": true
   },
   "outputs": [],
   "source": []
  }
 ],
 "metadata": {
  "kernelspec": {
   "display_name": "Python [Root]",
   "language": "python",
   "name": "Python [Root]"
  },
  "language_info": {
   "codemirror_mode": {
    "name": "ipython",
    "version": 3
   },
   "file_extension": ".py",
   "mimetype": "text/x-python",
   "name": "python",
   "nbconvert_exporter": "python",
   "pygments_lexer": "ipython3",
   "version": "3.5.2"
  }
 },
 "nbformat": 4,
 "nbformat_minor": 0
}
