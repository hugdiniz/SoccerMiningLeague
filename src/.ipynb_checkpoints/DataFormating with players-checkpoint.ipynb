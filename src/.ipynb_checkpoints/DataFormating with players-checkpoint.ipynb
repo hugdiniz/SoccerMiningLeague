{
 "cells": [
  {
   "cell_type": "markdown",
   "metadata": {},
   "source": [
    "# Soccer Mining League\n",
    "## Formating Dataset Match_Team\n",
    "\n",
    "#### Data Mining PESC/COPPE/UFRJ\n",
    "#### Required: Julia Language"
   ]
  },
  {
   "cell_type": "markdown",
   "metadata": {},
   "source": [
    "## Reading dataset "
   ]
  },
  {
   "cell_type": "code",
   "execution_count": 8,
   "metadata": {
    "collapsed": false
   },
   "outputs": [
    {
     "data": {
      "text/plain": [
       "380×99 Array{Any,2}:\n",
       " 2030082  21518  21518   1  …  55  55  59  \"Cover\"       \n",
       " 2030083  21518  21518   1     53  39  57  \"Cover\"       \n",
       " 2030084  21518  21518   1     42  48  59  \"Cover\"       \n",
       " 2030085  21518  21518   1     61  65  65  \"Cover\"       \n",
       " 2030086  21518  21518   1     37  56  49  \"Cover\"       \n",
       " 2030087  21518  21518   1  …  43  42  49  \"Cover\"       \n",
       " 2030088  21518  21518   1     47  48  44  \"Cover\"       \n",
       " 2030089  21518  21518   1     52  60  63  \"Cover\"       \n",
       " 2030090  21518  21518   1     49  53  53  \"Cover\"       \n",
       " 2030091  21518  21518   1     49  45  53  \"Cover\"       \n",
       " 2030172  21518  21518  10  …  54  52  63  \"Cover\"       \n",
       " 2030173  21518  21518  10     61  65  65  \"Cover\"       \n",
       " 2030174  21518  21518  10     42  48  59  \"Cover\"       \n",
       "       ⋮                    ⋱   ⋮                        \n",
       " 2030160  21518  21518   8     48  45  62  \"Cover\"       \n",
       " 2030161  21518  21518   8     37  40  45  \"Cover\"       \n",
       " 2030162  21518  21518   9  …  37  56  49  \"Cover\"       \n",
       " 2030163  21518  21518   9     43  42  49  \"Cover\"       \n",
       " 2030164  21518  21518   9     47  48  44  \"Cover\"       \n",
       " 2030165  21518  21518   9     52  60  63  \"Cover\"       \n",
       " 2030166  21518  21518   9     49  53  53  \"Cover\"       \n",
       " 2030167  21518  21518   9  …  49  45  53  \"Cover\"       \n",
       " 2030168  21518  21518   9     45  50  59  \"Offside Trap\"\n",
       " 2030169  21518  21518   9     45  54  41  \"Cover\"       \n",
       " 2030170  21518  21518   9     58  49  58  \"Cover\"       \n",
       " 2030171  21518  21518   9     37  40  45  \"Cover\"       "
      ]
     },
     "execution_count": 8,
     "metadata": {},
     "output_type": "execute_result"
    }
   ],
   "source": [
    "matrix = readcsv(\"../dataset/extracted_files/matchs_teams_spain_league_2015_2016_formated.csv\")"
   ]
  },
  {
   "cell_type": "markdown",
   "metadata": {},
   "source": [
    "## Formating\n",
    "\n",
    "#### Recover Classes"
   ]
  },
  {
   "cell_type": "code",
   "execution_count": 9,
   "metadata": {
    "collapsed": false
   },
   "outputs": [
    {
     "data": {
      "text/plain": [
       "20-element Array{Any,1}:\n",
       "  9910\n",
       "  8306\n",
       "  8302\n",
       "  8634\n",
       "  8372\n",
       "  8305\n",
       " 10205\n",
       "  8633\n",
       "  8560\n",
       " 10267\n",
       "  8370\n",
       "  8581\n",
       "  9906\n",
       "  9864\n",
       "  8315\n",
       "  7878\n",
       "  9783\n",
       "  9869\n",
       "  8603\n",
       "  8558"
      ]
     },
     "execution_count": 9,
     "metadata": {},
     "output_type": "execute_result"
    }
   ],
   "source": [
    "defenceDefenderLineClass = unique(matrix[:,99])\n",
    "chanceCreationPositioningClass = unique(matrix[:,95])\n",
    "buildUpPlayPositioningClass = unique(matrix[:,91])\n",
    "idTeams = unique(matrix[:,7])"
   ]
  },
  {
   "cell_type": "markdown",
   "metadata": {},
   "source": [
    "#### Formating chanceCreationPositioningClass, buildUpPlayPositioningClass and defenceDefenderLineClass"
   ]
  },
  {
   "cell_type": "code",
   "execution_count": 10,
   "metadata": {
    "collapsed": false,
    "scrolled": false
   },
   "outputs": [
    {
     "name": "stdout",
     "output_type": "stream",
     "text": [
      "Formated Class"
     ]
    }
   ],
   "source": [
    "matrix[:,99] = [find(x->x == out,defenceDefenderLineClass)[1] - 1 for out in matrix[:,99]]\n",
    "matrix[:,95] = [find(x->x == out,chanceCreationPositioningClass)[1] - 1 for out in matrix[:,95]]\n",
    "matrix[:,91] = [find(x->x == out,chanceCreationPositioningClass)[1] - 1 for out in matrix[:,91]]\n",
    "\n",
    "matrix[:,87] = [find(x->x == out,defenceDefenderLineClass)[1] - 1 for out in matrix[:,87]]\n",
    "matrix[:,83] = [find(x->x == out,chanceCreationPositioningClass)[1] - 1 for out in matrix[:,83]]\n",
    "matrix[:,79] = [find(x->x == out,chanceCreationPositioningClass)[1] - 1 for out in matrix[:,79]]\n",
    "print(\"Formated Class\")"
   ]
  },
  {
   "cell_type": "markdown",
   "metadata": {},
   "source": [
    "#### Formating Results"
   ]
  },
  {
   "cell_type": "code",
   "execution_count": 11,
   "metadata": {
    "collapsed": false
   },
   "outputs": [],
   "source": [
    "hcat(matrix[:,8],matrix[:,9])\n",
    "\n",
    "result = []\n",
    "\n",
    "for x in 1:length(matrix[:,8])    \n",
    "    if matrix[x,8] > matrix[x,9]\n",
    "        result = vcat(result,1)\n",
    "    elseif matrix[x,8] < matrix[x,9]\n",
    "        result = vcat(result,-1)\n",
    "    else\n",
    "        result = vcat(result,0)\n",
    "    end\n",
    "end        "
   ]
  },
  {
   "cell_type": "markdown",
   "metadata": {},
   "source": [
    "#### Formating Data"
   ]
  },
  {
   "cell_type": "code",
   "execution_count": 12,
   "metadata": {
    "collapsed": false
   },
   "outputs": [],
   "source": [
    "dates = []\n",
    "\n",
    "for dateString in matrix[:,5]     \n",
    "    dateString = split(dateString,\" \")[1]\n",
    "    date = Date(dateString,\"y-m-d\")\n",
    "    dates = vcat(dates,date.instant.periods.value)    \n",
    "end\n"
   ]
  },
  {
   "cell_type": "markdown",
   "metadata": {},
   "source": [
    "#### Joining dataset"
   ]
  },
  {
   "cell_type": "code",
   "execution_count": 13,
   "metadata": {
    "collapsed": false
   },
   "outputs": [
    {
     "data": {
      "text/plain": [
       "380×72 Array{Any,2}:\n",
       "  8581   9910  735833  1  1  3  5  7  …  1  41  48  50  0  55  55  59  0  -1\n",
       "  9906   8306  735832  1  2  4  8  6     1  53  42  53  1  53  39  57  0   1\n",
       "  9864   8302  735831  1  2  4  6  8     1  53  52  60  1  42  48  59  0   0\n",
       "  8315   8634  735833  1  2  4  6  8     0  36  49  56  0  61  65  65  0  -1\n",
       "  7878   8372  735834  1  2  4  6  8     1  59  55  52  1  37  56  49  0  -1\n",
       "  8558   8305  735832  1  2  4  6  8  …  1  55  39  49  1  43  42  49  0   1\n",
       "  8603  10205  735833  1  2  4  6  8     0  36  52  55  0  47  48  44  0   0\n",
       "  9869   8633  735833  1  2  4  6  8     0  61  41  63  0  52  60  63  0   0\n",
       "  9783   8560  735832  1  2  4  6  8     1  54  60  52  1  49  53  53  0   0\n",
       "  8370  10267  735832  1  2  4  6  8     1  37  51  58  1  49  45  53  0   0\n",
       "  8372   8370  735903  1  4  6  2  8  …  1  44  44  47  1  54  52  63  0   1\n",
       "  8305   8634  735902  1  2  4  6  8     0  36  49  56  0  61  65  65  0  -1\n",
       " 10205   8302  735902  1  2  4  6  8     1  53  52  60  1  42  48  59  0   1\n",
       "     ⋮                       ⋮        ⋱              ⋮                 ⋮    \n",
       "  9869   7878  735890  1  2  4  6  8     1  61  63  51  1  48  45  62  0   0\n",
       "  8603   8558  735888  1  2  6  8  4     1  52  60  40  0  37  40  45  0  -1\n",
       "  8634   8372  735896  1  2  4  6  8  …  1  59  55  52  1  37  56  49  0   1\n",
       "  8302   8305  735895  1  2  4  6  8     1  55  39  49  1  43  42  49  0   1\n",
       "  8306  10205  735896  1  2  4  6  8     0  36  52  55  0  47  48  44  0   0\n",
       "  9910   8633  735895  1  2  4  6  8     0  61  41  63  0  52  60  63  0  -1\n",
       "  8581   8560  735896  1  1  3  5  7     1  54  60  52  1  49  53  53  0  -1\n",
       "  9906  10267  735896  1  2  4  6  8  …  1  37  51  58  1  49  45  53  0   1\n",
       "  9864   9783  735895  1  2  4  6  8     1  38  52  55  1  45  50  59  1   1\n",
       "  8315   9869  735897  1  2  4  6  8     1  62  59  38  1  45  54  41  0   1\n",
       "  7878   8603  735895  1  2  4  6  8     1  59  43  53  1  58  49  58  0   0\n",
       "  8370   8558  735894  1  2  4  6  8     1  52  60  40  0  37  40  45  0   1"
      ]
     },
     "execution_count": 13,
     "metadata": {},
     "output_type": "execute_result"
    }
   ],
   "source": [
    "outMatrix  = hcat(matrix[:,6:7],dates,matrix[:,10:53],matrix[:,76:end],result)"
   ]
  },
  {
   "cell_type": "markdown",
   "metadata": {},
   "source": [
    "#### Save Dataset"
   ]
  },
  {
   "cell_type": "code",
   "execution_count": 14,
   "metadata": {
    "collapsed": false
   },
   "outputs": [],
   "source": [
    "writecsv(\"../dataset/formated_files/matchs_teams_spain_league_2015_2016_formated.csv\",outMatrix)"
   ]
  },
  {
   "cell_type": "code",
   "execution_count": null,
   "metadata": {
    "collapsed": true
   },
   "outputs": [],
   "source": []
  }
 ],
 "metadata": {
  "anaconda-cloud": {},
  "kernelspec": {
   "display_name": "Julia 0.5.0",
   "language": "julia",
   "name": "julia-0.5"
  },
  "language_info": {
   "file_extension": ".jl",
   "mimetype": "application/julia",
   "name": "julia",
   "version": "0.5.0"
  }
 },
 "nbformat": 4,
 "nbformat_minor": 0
}
