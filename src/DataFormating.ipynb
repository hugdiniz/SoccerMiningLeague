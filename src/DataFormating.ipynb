{
 "cells": [
  {
   "cell_type": "markdown",
   "metadata": {},
   "source": [
    "# Soccer Mining League\n",
    "## Formating Dataset Match_Team\n",
    "\n",
    "#### Data Mining PESC/COPPE/UFRJ\n",
    "#### Required: Julia Language"
   ]
  },
  {
   "cell_type": "markdown",
   "metadata": {},
   "source": [
    "## Reading dataset "
   ]
  },
  {
   "cell_type": "code",
   "execution_count": 19,
   "metadata": {
    "collapsed": false
   },
   "outputs": [
    {
     "data": {
      "text/plain": [
       "306×99 Array{Any,2}:\n",
       " 2001675  7809  7809   1  …  \"Organised\"  44  41  49  \"Cover\"\n",
       " 2001676  7809  7809   1     \"Free Form\"  41  48  39  \"Cover\"\n",
       " 2001677  7809  7809   1     \"Organised\"  63  61  38  \"Cover\"\n",
       " 2001679  7809  7809   1     \"Organised\"  48  42  55  \"Cover\"\n",
       " 2001680  7809  7809   1     \"Organised\"  42  56  51  \"Cover\"\n",
       " 2001681  7809  7809   1  …  \"Organised\"  50  45  57  \"Cover\"\n",
       " 2001682  7809  7809   1     \"Organised\"  55  59  56  \"Cover\"\n",
       " 2001683  7809  7809   1     \"Organised\"  37  48  49  \"Cover\"\n",
       " 2001684  7809  7809   1     \"Organised\"  35  50  61  \"Cover\"\n",
       " 2002173  7809  7809  10     \"Organised\"  42  56  51  \"Cover\"\n",
       " 2002174  7809  7809  10  …  \"Organised\"  34  50  59  \"Cover\"\n",
       " 2002175  7809  7809  10     \"Organised\"  41  44  32  \"Cover\"\n",
       " 2002176  7809  7809  10     \"Organised\"  55  59  56  \"Cover\"\n",
       "       ⋮                  ⋱                ⋮                 \n",
       " 2002161  7809  7809   8     \"Organised\"  41  44  32  \"Cover\"\n",
       " 2002162  7809  7809   8  …  \"Organised\"  48  42  55  \"Cover\"\n",
       " 2002163  7809  7809   8     \"Organised\"  55  62  47  \"Cover\"\n",
       " 2002164  7809  7809   9     \"Organised\"  50  45  57  \"Cover\"\n",
       " 2002165  7809  7809   9     \"Organised\"  63  61  38  \"Cover\"\n",
       " 2002166  7809  7809   9     \"Organised\"  61  72  50  \"Cover\"\n",
       " 2002167  7809  7809   9  …  \"Organised\"  37  48  49  \"Cover\"\n",
       " 2002168  7809  7809   9     \"Organised\"  32  56  41  \"Cover\"\n",
       " 2002169  7809  7809   9     \"Free Form\"  72  53  59  \"Cover\"\n",
       " 2002170  7809  7809   9     \"Free Form\"  41  48  39  \"Cover\"\n",
       " 2002171  7809  7809   9     \"Organised\"  35  50  61  \"Cover\"\n",
       " 2002172  7809  7809   9  …  \"Free Form\"  65  71  40  \"Cover\""
      ]
     },
     "execution_count": 19,
     "metadata": {},
     "output_type": "execute_result"
    }
   ],
   "source": [
    "matrix = readcsv(\"../dataset/extracted_files/matchs_teams_germany_league_2015_2016_extracted.csv\")"
   ]
  },
  {
   "cell_type": "markdown",
   "metadata": {},
   "source": [
    "## Formating\n",
    "\n",
    "#### Recover Classes"
   ]
  },
  {
   "cell_type": "code",
   "execution_count": 20,
   "metadata": {
    "collapsed": false
   },
   "outputs": [
    {
     "data": {
      "text/plain": [
       "18-element Array{Any,1}:\n",
       "  9790\n",
       "  9788\n",
       "  8226\n",
       "  9810\n",
       "  8722\n",
       "  8177\n",
       " 10189\n",
       "  8234\n",
       "  9904\n",
       "  8406\n",
       " 10269\n",
       "  8697\n",
       "  8721\n",
       "  8178\n",
       "  8262\n",
       "  9905\n",
       "  9789\n",
       "  9823"
      ]
     },
     "execution_count": 20,
     "metadata": {},
     "output_type": "execute_result"
    }
   ],
   "source": [
    "defenceDefenderLineClass = unique(matrix[:,99])\n",
    "chanceCreationPositioningClass = unique(matrix[:,95])\n",
    "buildUpPlayPositioningClass = unique(matrix[:,91])\n",
    "idTeams = unique(matrix[:,7])"
   ]
  },
  {
   "cell_type": "markdown",
   "metadata": {},
   "source": [
    "#### Formating chanceCreationPositioningClass, buildUpPlayPositioningClass and defenceDefenderLineClass"
   ]
  },
  {
   "cell_type": "code",
   "execution_count": 21,
   "metadata": {
    "collapsed": false,
    "scrolled": false
   },
   "outputs": [
    {
     "name": "stdout",
     "output_type": "stream",
     "text": [
      "Formated Class"
     ]
    }
   ],
   "source": [
    "matrix[:,99] = [find(x->x == out,defenceDefenderLineClass)[1] - 1 for out in matrix[:,99]]\n",
    "matrix[:,95] = [find(x->x == out,chanceCreationPositioningClass)[1] - 1 for out in matrix[:,95]]\n",
    "matrix[:,91] = [find(x->x == out,chanceCreationPositioningClass)[1] - 1 for out in matrix[:,91]]\n",
    "\n",
    "matrix[:,87] = [find(x->x == out,defenceDefenderLineClass)[1] - 1 for out in matrix[:,87]]\n",
    "matrix[:,83] = [find(x->x == out,chanceCreationPositioningClass)[1] - 1 for out in matrix[:,83]]\n",
    "matrix[:,79] = [find(x->x == out,chanceCreationPositioningClass)[1] - 1 for out in matrix[:,79]]\n",
    "print(\"Formated Class\")"
   ]
  },
  {
   "cell_type": "markdown",
   "metadata": {},
   "source": [
    "#### Formating Results"
   ]
  },
  {
   "cell_type": "code",
   "execution_count": 22,
   "metadata": {
    "collapsed": false
   },
   "outputs": [],
   "source": [
    "hcat(matrix[:,8],matrix[:,9])\n",
    "\n",
    "result = []\n",
    "\n",
    "for x in 1:length(matrix[:,8])    \n",
    "    if matrix[x,8] > matrix[x,9]\n",
    "        result = vcat(result,1)\n",
    "    elseif matrix[x,8] < matrix[x,9]\n",
    "        result = vcat(result,-1)\n",
    "    else\n",
    "        result = vcat(result,0)\n",
    "    end\n",
    "end        "
   ]
  },
  {
   "cell_type": "markdown",
   "metadata": {},
   "source": [
    "#### Formating Data"
   ]
  },
  {
   "cell_type": "code",
   "execution_count": 23,
   "metadata": {
    "collapsed": false
   },
   "outputs": [],
   "source": [
    "dates = []\n",
    "\n",
    "for dateString in matrix[:,5]     \n",
    "    dateString = split(dateString,\" \")[1]\n",
    "    date = Date(dateString,\"y-m-d\")\n",
    "    dates = vcat(dates,date.instant.periods.value)    \n",
    "end\n"
   ]
  },
  {
   "cell_type": "markdown",
   "metadata": {},
   "source": [
    "#### Joining dataset"
   ]
  },
  {
   "cell_type": "code",
   "execution_count": 30,
   "metadata": {
    "collapsed": false
   },
   "outputs": [
    {
     "data": {
      "text/plain": [
       "306×72 Array{Any,2}:\n",
       "  9823   9790  735824  1  2  8  4  6  …  0  62  58  47  0  44  41  49  0   1\n",
       "  9789   9788  735825  1  2  4  6  8     0  38  26  49  1  41  48  39  0   1\n",
       "  8178   8226  735825  1  4  6  2  8     0  66  62  59  0  63  61  38  0   1\n",
       "  8721   9810  735826  1  2  4  6  8     0  47  58  40  0  48  42  55  0   1\n",
       " 10269   8722  735826  1  2  4  6  8     0  57  36  71  0  42  56  51  0  -1\n",
       "  8406   8177  735825  1  2  4  6  8  …  0  59  68  45  0  50  45  57  0  -1\n",
       "  8697  10189  735825  1  2  4  6  8     0  64  61  37  0  55  59  56  0  -1\n",
       "  9905   8234  735825  1  2  4  6  8     0  47  53  51  0  37  48  49  0  -1\n",
       "  8262   9904  735825  1  2  4  6  8     0  38  51  40  0  35  50  61  0   0\n",
       "  9823   8722  735895  1  3  5  7  2     0  57  36  71  0  42  56  51  0   1\n",
       "  9789   8406  735896  1  2  4  6  8  …  0  49  62  55  0  34  50  59  0   1\n",
       "  8178  10269  735895  1  2  4  6  8     0  58  66  48  0  41  44  32  0   1\n",
       "  9788  10189  735896  1  2  4  6  8     0  64  61  37  0  55  59  56  0   1\n",
       "     ⋮                       ⋮        ⋱              ⋮                 ⋮    \n",
       "  8226  10269  735874  1  2  4  6  8     0  58  66  48  0  41  44  32  0   0\n",
       "  8234   9810  735874  1  2  4  6  8  …  0  47  58  40  0  48  42  55  0   1\n",
       "  8262   9905  735873  1  2  4  6  8     0  49  40  44  0  55  62  47  0  -1\n",
       " 10189   8177  735888  1  4  6  2  8     0  59  68  45  0  50  45  57  0   1\n",
       "  8721   8226  735888  1  2  4  6  8     0  66  62  59  0  63  61  38  0   1\n",
       "  9790   8178  735888  1  2  4  6  8     0  77  54  61  0  61  72  50  0   0\n",
       " 10269   8234  735889  1  2  4  6  8  …  0  47  53  51  0  37  48  49  0   1\n",
       "  8406   8262  735888  1  2  4  6  8     0  52  77  45  0  32  56  41  0  -1\n",
       "  8697   9823  735888  1  2  4  6  8     1  37  31  22  1  72  53  59  0  -1\n",
       "  9810   9788  735888  1  2  4  6  8     0  38  26  49  1  41  48  39  0  -1\n",
       "  8722   9904  735889  1  2  4  6  8     0  38  51  40  0  35  50  61  0  -1\n",
       "  9905   9789  735887  1  2  4  6  8  …  0  70  44  49  1  65  71  40  0  -1"
      ]
     },
     "execution_count": 30,
     "metadata": {},
     "output_type": "execute_result"
    }
   ],
   "source": [
    "outMatrix  = hcat(matrix[:,6:7],dates,matrix[:,10:53],matrix[:,76:end],result)"
   ]
  },
  {
   "cell_type": "markdown",
   "metadata": {},
   "source": [
    "#### Save Dataset"
   ]
  },
  {
   "cell_type": "code",
   "execution_count": 31,
   "metadata": {
    "collapsed": false
   },
   "outputs": [],
   "source": [
    "writecsv(\"../dataset/formated_files/matchs_teams_germany_league_2015_2016_formated.csv\",outMatrix)"
   ]
  },
  {
   "cell_type": "code",
   "execution_count": null,
   "metadata": {
    "collapsed": true
   },
   "outputs": [],
   "source": []
  }
 ],
 "metadata": {
  "kernelspec": {
   "display_name": "Julia 0.5.0",
   "language": "julia",
   "name": "julia-0.5"
  },
  "language_info": {
   "file_extension": ".jl",
   "mimetype": "application/julia",
   "name": "julia",
   "version": "0.5.0"
  }
 },
 "nbformat": 4,
 "nbformat_minor": 0
}
