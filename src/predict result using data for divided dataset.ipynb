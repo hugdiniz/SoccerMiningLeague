{
 "cells": [
  {
   "cell_type": "markdown",
   "metadata": {},
   "source": [
    "# Soccer Mining League\n",
    "## Predict result one league and one season\n",
    "\n",
    "#### Data Mining PESC/COPPE/UFRJ\n",
    "#### Required: Python 3.5, Numpy, Scikit-Learn, Matplotlib"
   ]
  },
  {
   "cell_type": "code",
   "execution_count": 1,
   "metadata": {
    "collapsed": false
   },
   "outputs": [
    {
     "name": "stderr",
     "output_type": "stream",
     "text": [
      "/home/hugdiniz/Work/programs/anaconda3/lib/python3.5/site-packages/sklearn/cross_validation.py:44: DeprecationWarning: This module was deprecated in version 0.18 in favor of the model_selection module into which all the refactored classes and functions are moved. Also note that the interface of the new CV iterators are different from that of this module. This module will be removed in 0.20.\n",
      "  \"This module will be removed in 0.20.\", DeprecationWarning)\n"
     ]
    }
   ],
   "source": [
    "import numpy as np\n",
    "\n",
    "#Sklearn -- preprocessing \n",
    "from sklearn import preprocessing\n",
    "from sklearn.decomposition import PCA\n",
    "from sklearn.manifold import TSNE\n",
    "\n",
    "#Plots\n",
    "%matplotlib inline\n",
    "\n",
    "from sklearn import svm\n",
    "from sklearn.linear_model import LogisticRegression\n",
    "from sklearn.neighbors import KNeighborsClassifier\n",
    "\n",
    "from sklearn.preprocessing import StandardScaler\n",
    "\n",
    "from sklearn.cross_validation import cross_val_score\n",
    "\n",
    "#Sklearn -- Metrics\n",
    "from sklearn.metrics import accuracy_score, confusion_matrix\n",
    "\n",
    "# Soccer Mining League Functions\n",
    "from functions import *"
   ]
  },
  {
   "cell_type": "markdown",
   "metadata": {},
   "source": [
    "## Reading dataset\n",
    "\n",
    "#### Reading from file"
   ]
  },
  {
   "cell_type": "code",
   "execution_count": 2,
   "metadata": {
    "collapsed": false
   },
   "outputs": [],
   "source": [
    "season1 = np.loadtxt(\"../dataset/formated_files/matchs_teams_players_germany_league_2014_2015_formated.csv\",delimiter=\",\")\n",
    "season2 = np.loadtxt(\"../dataset/formated_files/matchs_teams_players_germany_league_2015_2016_formated.csv\",delimiter=\",\")"
   ]
  },
  {
   "cell_type": "markdown",
   "metadata": {},
   "source": [
    "#### Recover output"
   ]
  },
  {
   "cell_type": "code",
   "execution_count": 3,
   "metadata": {
    "collapsed": false
   },
   "outputs": [],
   "source": [
    "outputsSeason1 = season1[:,907]\n",
    "outputsRSeason1 = season1[:,[908,909]]\n",
    "\n",
    "outputsSeason2 = season2[:,907]\n",
    "outputsRSeason2 = season2[:,[908,909]]"
   ]
  },
  {
   "cell_type": "markdown",
   "metadata": {},
   "source": [
    "## Preprocessing\n",
    "\n",
    "#### Maximize sparse teams"
   ]
  },
  {
   "cell_type": "code",
   "execution_count": 4,
   "metadata": {
    "collapsed": false
   },
   "outputs": [],
   "source": [
    "enc = preprocessing.OneHotEncoder()\n",
    "enc.fit(season2[:,[0]])\n",
    "teamsH = enc.transform(np.concatenate((season1[:,[0]],season2[:,[0]]),axis=0)) \n",
    "teamsA = enc.transform(np.concatenate((season1[:,[1]],season2[:,[1]]),axis=0)) \n",
    "teams = (teamsH + teamsA).toarray()\n",
    "teamsSeason1 = teams[range(len(season2[:,[0]]))]\n",
    "teamsSeason2 = teams[range(len(season2[:,[0]]),2*len(season2[:,[0]]))]\n"
   ]
  },
  {
   "cell_type": "markdown",
   "metadata": {},
   "source": [
    "### Preprocessing Season 1"
   ]
  },
  {
   "cell_type": "markdown",
   "metadata": {},
   "source": [
    "#### Reducing Dimensionality for team ratings"
   ]
  },
  {
   "cell_type": "code",
   "execution_count": 5,
   "metadata": {
    "collapsed": false
   },
   "outputs": [],
   "source": [
    "homeRateTeam = season1[:,[47,48,49,50,51,52,53,54,55,56,57,58]]\n",
    "awayRateTeam = season1[:,[59,60,61,62,63,64,65,66,67,68,69,70]]\n",
    "\n",
    "pca = decomposition.PCA(n_components=6)\n",
    "homeRateTeamPreprocessed = pca.fit_transform(homeRateTeam)\n",
    "\n",
    "pca = decomposition.PCA(n_components=6)\n",
    "awayRateTeampreprocessed = pca.fit_transform(awayRateTeam)"
   ]
  },
  {
   "cell_type": "markdown",
   "metadata": {},
   "source": [
    "#### Reducing Dimensionality for players"
   ]
  },
  {
   "cell_type": "code",
   "execution_count": 6,
   "metadata": {
    "collapsed": false
   },
   "outputs": [],
   "source": [
    "xTatics = season1[:,[3,4,5,6,7,8,9,10,11,12,13,14,15,16,17,18,19,20,21,22,23,24,25,26,27,28,29,30,31,32,33,34,35,36,37,38,39,40,41,42,43,44,45,46]]\n",
    "\n",
    "playersRD = [decomposition.PCA(n_components=9).fit_transform(np.concatenate((season1[:,range(71+(pos*38),71+((pos+1)*38))],xTatics[:,[pos,pos+22]]),axis=1)) for pos in range(22)]"
   ]
  },
  {
   "cell_type": "markdown",
   "metadata": {},
   "source": [
    "#### Concatenate inputs"
   ]
  },
  {
   "cell_type": "code",
   "execution_count": 7,
   "metadata": {
    "collapsed": false
   },
   "outputs": [
    {
     "name": "stdout",
     "output_type": "stream",
     "text": [
      "306\n"
     ]
    }
   ],
   "source": [
    "date = season1[:,[2]]\n",
    "print(awayRateTeampreprocessed[:,1].size)\n",
    "inputsSeason1 = np.concatenate((homeRateTeamPreprocessed,awayRateTeampreprocessed,teamsSeason1,date), axis=1)\n",
    "\n",
    "for playerRD in playersRD:\n",
    "    inputsSeason1 = np.concatenate((inputsSeason1,playerRD), axis=1)\n"
   ]
  },
  {
   "cell_type": "markdown",
   "metadata": {},
   "source": [
    "#### Scaling inputs"
   ]
  },
  {
   "cell_type": "code",
   "execution_count": 8,
   "metadata": {
    "collapsed": false
   },
   "outputs": [
    {
     "data": {
      "text/plain": [
       "229"
      ]
     },
     "execution_count": 8,
     "metadata": {},
     "output_type": "execute_result"
    }
   ],
   "source": [
    "inputsSeason1 = StandardScaler().fit_transform(inputsSeason1)\n",
    "\n",
    "inputsSeason1[1,:].size"
   ]
  },
  {
   "cell_type": "markdown",
   "metadata": {},
   "source": [
    "## Preprocessing Season 2"
   ]
  },
  {
   "cell_type": "markdown",
   "metadata": {},
   "source": [
    "#### Reducing Dimensionality for team ratings"
   ]
  },
  {
   "cell_type": "code",
   "execution_count": 9,
   "metadata": {
    "collapsed": true
   },
   "outputs": [],
   "source": [
    "homeRateTeam = season2[:,[47,48,49,50,51,52,53,54,55,56,57,58]]\n",
    "awayRateTeam = season2[:,[59,60,61,62,63,64,65,66,67,68,69,70]]\n",
    "\n",
    "pca = decomposition.PCA(n_components=6)\n",
    "homeRateTeamPreprocessed = pca.fit_transform(homeRateTeam)\n",
    "\n",
    "pca = decomposition.PCA(n_components=6)\n",
    "awayRateTeampreprocessed = pca.fit_transform(awayRateTeam)"
   ]
  },
  {
   "cell_type": "markdown",
   "metadata": {},
   "source": [
    "#### Reducing Dimensionality for players"
   ]
  },
  {
   "cell_type": "code",
   "execution_count": 10,
   "metadata": {
    "collapsed": true
   },
   "outputs": [],
   "source": [
    "xTatics = season2[:,[3,4,5,6,7,8,9,10,11,12,13,14,15,16,17,18,19,20,21,22,23,24,25,26,27,28,29,30,31,32,33,34,35,36,37,38,39,40,41,42,43,44,45,46]]\n",
    "\n",
    "playersRD = [decomposition.PCA(n_components=9).fit_transform(np.concatenate((season2[:,range(71+(pos*38),71+((pos+1)*38))],xTatics[:,[pos,pos+22]]),axis=1)) for pos in range(22)]"
   ]
  },
  {
   "cell_type": "markdown",
   "metadata": {},
   "source": [
    "#### Maximize sparse teams"
   ]
  },
  {
   "cell_type": "markdown",
   "metadata": {},
   "source": [
    "#### Concatenate inputs"
   ]
  },
  {
   "cell_type": "code",
   "execution_count": 11,
   "metadata": {
    "collapsed": true
   },
   "outputs": [],
   "source": [
    "date = season2[:,[2]]\n",
    "inputsSeason2 = np.concatenate((homeRateTeamPreprocessed,awayRateTeampreprocessed,teamsSeason2,date), axis=1)\n",
    "\n",
    "for playerRD in playersRD:\n",
    "    inputsSeason2 = np.concatenate((inputsSeason2,playerRD), axis=1)\n"
   ]
  },
  {
   "cell_type": "markdown",
   "metadata": {},
   "source": [
    "#### Scaling inputs"
   ]
  },
  {
   "cell_type": "code",
   "execution_count": 12,
   "metadata": {
    "collapsed": false
   },
   "outputs": [],
   "source": [
    "inputsSeason2 = StandardScaler().fit_transform(inputsSeason2)"
   ]
  },
  {
   "cell_type": "markdown",
   "metadata": {},
   "source": [
    "## Classification "
   ]
  },
  {
   "cell_type": "markdown",
   "metadata": {},
   "source": [
    "#### Using KFold with Naive Bayes"
   ]
  },
  {
   "cell_type": "code",
   "execution_count": 13,
   "metadata": {
    "collapsed": false
   },
   "outputs": [
    {
     "name": "stdout",
     "output_type": "stream",
     "text": [
      "0.421568627451\n"
     ]
    },
    {
     "data": {
      "image/png": "[encoded data removed]",
      "text/plain": [
       "<matplotlib.figure.Figure at 0x7f00f4c846d8>"
      ]
     },
     "metadata": {},
     "output_type": "display_data"
    }
   ],
   "source": [
    "gnb = GaussianNB()\n",
    "gnb.fit(inputsSeason1,outputsSeason1)\n",
    "predicts = gnb.predict(inputsSeason2)\n",
    "print(accuracy_score(outputsSeason2,predicts))\n",
    "plotConfusionMatrix(outputsSeason2,predicts)"
   ]
  },
  {
   "cell_type": "markdown",
   "metadata": {},
   "source": [
    "#### Using KFold with SVM "
   ]
  },
  {
   "cell_type": "code",
   "execution_count": 14,
   "metadata": {
    "collapsed": false
   },
   "outputs": [
    {
     "name": "stdout",
     "output_type": "stream",
     "text": [
      "0.450980392157\n"
     ]
    },
    {
     "data": {
      "image/png": "[encoded data removed]",
      "text/plain": [
       "<matplotlib.figure.Figure at 0x7f00f1d865f8>"
      ]
     },
     "metadata": {},
     "output_type": "display_data"
    }
   ],
   "source": [
    "clf = svm.SVC()\n",
    "clf.fit(inputsSeason1,outputsSeason1)\n",
    "predicts = clf.predict(inputsSeason2)\n",
    "print(accuracy_score(outputsSeason2,predicts))\n",
    "plotConfusionMatrix(outputsSeason2,predicts)"
   ]
  },
  {
   "cell_type": "markdown",
   "metadata": {},
   "source": [
    "#### Using KFold with Logistic Regression"
   ]
  },
  {
   "cell_type": "code",
   "execution_count": 15,
   "metadata": {
    "collapsed": false
   },
   "outputs": [
    {
     "name": "stdout",
     "output_type": "stream",
     "text": [
      "0.333333333333\n"
     ]
    },
    {
     "data": {
      "image/png": "[encoded data removed]",
      "text/plain": [
       "<matplotlib.figure.Figure at 0x7f00f31632e8>"
      ]
     },
     "metadata": {},
     "output_type": "display_data"
    }
   ],
   "source": [
    "clf = LogisticRegression(penalty='l1')\n",
    "clf.fit(inputsSeason1,outputsSeason1)\n",
    "predicts = clf.predict(inputsSeason2)\n",
    "print(accuracy_score(outputsSeason2,predicts))\n",
    "plotConfusionMatrix(outputsSeason2,predicts)"
   ]
  },
  {
   "cell_type": "markdown",
   "metadata": {},
   "source": [
    "#### Using KFold with KNeighborsClassifier"
   ]
  },
  {
   "cell_type": "code",
   "execution_count": 16,
   "metadata": {
    "collapsed": false
   },
   "outputs": [
    {
     "name": "stdout",
     "output_type": "stream",
     "text": [
      "0.37908496732\n"
     ]
    },
    {
     "data": {
      "image/png": "[encoded data removed]",
      "text/plain": [
       "<matplotlib.figure.Figure at 0x7f00f6c4a048>"
      ]
     },
     "metadata": {},
     "output_type": "display_data"
    }
   ],
   "source": [
    "clf = KNeighborsClassifier(n_neighbors=15)\n",
    "clf.fit(inputsSeason1,outputsSeason1)\n",
    "predicts = clf.predict(inputsSeason2)\n",
    "print(accuracy_score(outputsSeason2,predicts))\n",
    "plotConfusionMatrix(outputsSeason2,predicts)"
   ]
  },
  {
   "cell_type": "markdown",
   "metadata": {
    "collapsed": true
   },
   "source": [
    "### Using Time for divided train and test for only 1 season\n",
    "\n",
    "#### choose all session with not trainning for test"
   ]
  },
  {
   "cell_type": "code",
   "execution_count": 17,
   "metadata": {
    "collapsed": false,
    "scrolled": true
   },
   "outputs": [],
   "source": [
    "def createMetric():\n",
    "    return svm.SVC()"
   ]
  },
  {
   "cell_type": "code",
   "execution_count": 18,
   "metadata": {
    "collapsed": false
   },
   "outputs": [
    {
     "data": {
      "text/plain": [
       "array([ 0.25555556,  0.34482759,  0.49603175,  0.48971193,  0.47863248,\n",
       "        0.48444444,  0.47685185,  0.46859903,  0.48484848,  0.46031746,\n",
       "        0.45555556,  0.47368421,  0.48148148,  0.47712418,  0.45138889,\n",
       "        0.4962963 ,  0.49206349,  0.48717949,  0.52777778,  0.49494949,\n",
       "        0.48888889,  0.48148148,  0.54166667,  0.57142857,  0.55555556,\n",
       "        0.55555556,  0.52777778,  0.62962963,  0.61111111,  0.66666667])"
      ]
     },
     "execution_count": 18,
     "metadata": {},
     "output_type": "execute_result"
    }
   ],
   "source": [
    "errorForSession(inputsSeason1,outputsSeason1,createMetric,season1[:,910],init=4,test=\"all\")"
   ]
  },
  {
   "cell_type": "markdown",
   "metadata": {},
   "source": [
    "#### choose only next stage for test"
   ]
  },
  {
   "cell_type": "code",
   "execution_count": 33,
   "metadata": {
    "collapsed": false
   },
   "outputs": [
    {
     "data": {
      "text/plain": [
       "array([ 0.33333333,  0.33333333,  0.66666667,  0.55555556,  0.55555556,\n",
       "        0.55555556,  0.55555556,  0.33333333,  0.77777778,  0.55555556,\n",
       "        0.22222222,  0.33333333,  0.55555556,  0.55555556,  0.11111111,\n",
       "        0.66666667,  0.66666667,  0.33333333,  0.77777778,  0.33333333,\n",
       "        0.55555556,  0.22222222,  0.44444444,  0.66666667,  0.55555556,\n",
       "        0.66666667,  0.33333333,  0.55555556,  0.55555556,  0.66666667])"
      ]
     },
     "execution_count": 33,
     "metadata": {},
     "output_type": "execute_result"
    }
   ],
   "source": [
    "errorForSession(inputsSeason1,outputsSeason1,createMetric,season1[:,910],init=4,test=\"nextStage\")"
   ]
  },
  {
   "cell_type": "markdown",
   "metadata": {},
   "source": [
    "### Using Time for divided train and test with 2 two seasons\n",
    "\n",
    "#### choose all session with not trainning for test"
   ]
  },
  {
   "cell_type": "code",
   "execution_count": 23,
   "metadata": {
    "collapsed": false
   },
   "outputs": [
    {
     "data": {
      "text/plain": [
       "array([ 0.49122807,  0.52469136,  0.49673203,  0.54166667,  0.51851852,\n",
       "        0.48412698,  0.47863248,  0.5       ,  0.53535354,  0.54444444,\n",
       "        0.5308642 ,  0.5       ,  0.52380952,  0.44444444,  0.42222222,\n",
       "        0.41666667,  0.44444444,  0.33333333,  0.44444444])"
      ]
     },
     "execution_count": 23,
     "metadata": {},
     "output_type": "execute_result"
    }
   ],
   "source": [
    "def createWeights(data):\n",
    "    weights = []    \n",
    "    for x in range(len(data[:,0])):\n",
    "        if(x >= 306):\n",
    "            weights = np.concatenate((weights,[100]))\n",
    "        else:\n",
    "            weights = np.concatenate((weights,[0.1]))\n",
    "    return np.array(weights)\n",
    "\n",
    "errorForSession(inputsSeason2,outputsSeason2,createMetric,season2[:,910],inputBeforeSession =inputsSeason1,outputBeforeSession =outputsSeason1, weightsFunction = createWeights,init=1,test=\"all\")"
   ]
  },
  {
   "cell_type": "code",
   "execution_count": null,
   "metadata": {
    "collapsed": false
   },
   "outputs": [],
   "source": []
  },
  {
   "cell_type": "code",
   "execution_count": null,
   "metadata": {
    "collapsed": true
   },
   "outputs": [],
   "source": []
  }
 ],
 "metadata": {
  "anaconda-cloud": {},
  "kernelspec": {
   "display_name": "Python [Root]",
   "language": "python",
   "name": "Python [Root]"
  },
  "language_info": {
   "codemirror_mode": {
    "name": "ipython",
    "version": 3
   },
   "file_extension": ".py",
   "mimetype": "text/x-python",
   "name": "python",
   "nbconvert_exporter": "python",
   "pygments_lexer": "ipython3",
   "version": "3.5.2"
  }
 },
 "nbformat": 4,
 "nbformat_minor": 0
}
